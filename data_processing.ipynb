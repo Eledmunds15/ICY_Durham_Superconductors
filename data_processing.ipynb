{
 "cells": [
  {
   "cell_type": "code",
   "execution_count": 7,
   "metadata": {},
   "outputs": [],
   "source": [
    "# Data Processing\n",
    "# Ethan L. Edmunds, Jan 2025\n",
    "\n",
    "import numpy as np\n",
    "import pandas as pd\n",
    "import matplotlib.pyplot as plt\n",
    "import matplotlib.cm as cm\n",
    "from scipy.optimize import curve_fit"
   ]
  },
  {
   "cell_type": "code",
   "execution_count": 8,
   "metadata": {},
   "outputs": [
    {
     "name": "stdout",
     "output_type": "stream",
     "text": [
      "   Tesla  Angle   Current   Voltage   Time\n",
      "0   0.15    0.0 -0.016081  1.833614  0.046\n",
      "1   0.15    0.0 -0.016235  1.850597  0.092\n",
      "2   0.15    0.0 -0.016093  1.850638  0.465\n",
      "3   0.15    0.0 -0.016118  1.853878  0.512\n",
      "4   0.15    0.0 -0.016013  1.853580  0.558\n"
     ]
    }
   ],
   "source": [
    "# Load the data into a pandas Dataframe\n",
    "file_path = 'Full_ICY_Durham_data'\n",
    "df = pd.read_csv(file_path)\n",
    "\n",
    "critical_current_data = []\n",
    "\n",
    "unique_tesla = df['Tesla'].unique()\n",
    "unique_angle = df['Angle'].unique()\n",
    "\n",
    "print(df.head())"
   ]
  },
  {
   "cell_type": "code",
   "execution_count": 9,
   "metadata": {},
   "outputs": [
    {
     "name": "stdout",
     "output_type": "stream",
     "text": [
      "Fitted E_c for Tesla = 0.15, Angle = 0.0: 51.17, Fitted n: 12.80\n",
      "Fitted E_c for Tesla = 0.15, Angle = 120.0: 57.57, Fitted n: 14.23\n",
      "Fitted E_c for Tesla = 0.15, Angle = 150.0: 54.40, Fitted n: 13.04\n",
      "Fitted E_c for Tesla = 0.15, Angle = 40.0: 56.29, Fitted n: 13.11\n",
      "Fitted E_c for Tesla = 0.15, Angle = 60.0: 61.72, Fitted n: 12.99\n",
      "Fitted E_c for Tesla = 0.15, Angle = 90.0: 75.78, Fitted n: 17.09\n",
      "Fitted E_c for Tesla = 0.2, Angle = 0.0: 46.62, Fitted n: 13.47\n",
      "Fitted E_c for Tesla = 0.3, Angle = 0.0: 41.90, Fitted n: 11.50\n",
      "Fitted E_c for Tesla = 0.3, Angle = 120.0: 40.68, Fitted n: 11.30\n",
      "Fitted E_c for Tesla = 0.3, Angle = 150.0: 40.88, Fitted n: 11.25\n",
      "Fitted E_c for Tesla = 0.3, Angle = 40.0: 44.32, Fitted n: 11.03\n",
      "Fitted E_c for Tesla = 0.3, Angle = 60.0: 46.16, Fitted n: 10.78\n",
      "Fitted E_c for Tesla = 0.3, Angle = 90.0: 62.28, Fitted n: 16.78\n",
      "Fitted E_c for Tesla = 0.45, Angle = 0.0: 37.39, Fitted n: 11.27\n",
      "Fitted E_c for Tesla = 0.45, Angle = 120.0: 33.03, Fitted n: 9.80\n",
      "Fitted E_c for Tesla = 0.45, Angle = 150.0: 34.66, Fitted n: 9.82\n",
      "Fitted E_c for Tesla = 0.45, Angle = 40.0: 37.35, Fitted n: 10.77\n",
      "Fitted E_c for Tesla = 0.45, Angle = 60.0: 37.18, Fitted n: 9.30\n",
      "Fitted E_c for Tesla = 0.45, Angle = 90.0: 53.20, Fitted n: 16.04\n",
      "Fitted E_c for Tesla = 0.4, Angle = 0.0: 38.66, Fitted n: 11.78\n",
      "Fitted E_c for Tesla = 0.5, Angle = 0.0: 36.40, Fitted n: 11.46\n",
      "Fitted E_c for Tesla = 0.6, Angle = 0.0: 34.46, Fitted n: 10.79\n",
      "Fitted E_c for Tesla = 0.6, Angle = 120.0: 28.22, Fitted n: 8.36\n",
      "Fitted E_c for Tesla = 0.6, Angle = 150.0: 30.39, Fitted n: 10.02\n",
      "Fitted E_c for Tesla = 0.6, Angle = 40.0: 34.04, Fitted n: 9.88\n",
      "Fitted E_c for Tesla = 0.6, Angle = 60.0: 31.59, Fitted n: 9.99\n",
      "Fitted E_c for Tesla = 0.6, Angle = 90.0: 46.42, Fitted n: 14.01\n",
      "Fitted E_c for Tesla = 0.7, Angle = 0.0: 33.16, Fitted n: 9.97\n",
      "Fitted E_c for Tesla = 0.0, Angle = 0.0: 80.30, Fitted n: 79.48\n",
      "Fitted E_c for Tesla = 0.0, Angle = 120.0: 85.25, Fitted n: 27.59\n",
      "Fitted E_c for Tesla = 0.0, Angle = 150.0: 84.62, Fitted n: 26.81\n",
      "Fitted E_c for Tesla = 0.0, Angle = 40.0: 89.11, Fitted n: 20.94\n",
      "Fitted E_c for Tesla = 0.0, Angle = 60.0: 86.78, Fitted n: 24.68\n",
      "Fitted E_c for Tesla = 0.0, Angle = 90.0: 87.19, Fitted n: 21.86\n",
      "Fitted E_c for Tesla = 0.0, Angle = 30.0: 89.51, Fitted n: 17.85\n"
     ]
    }
   ],
   "source": [
    "# Define the distances in mm (converting to metres)\n",
    "distance = 12.7/1000\n",
    "\n",
    "# Voltage correction\n",
    "for tesla in unique_tesla:\n",
    "    for angle in unique_angle:\n",
    "\n",
    "        df_filtered = df[(df['Tesla'] == tesla) & (df['Angle'] == angle)]  # Create a filtered dataframe based on unique value of tesla and angle\n",
    "\n",
    "        if not df_filtered.empty:\n",
    "\n",
    "            max_current = df_filtered['Current'].max()\n",
    "\n",
    "            df_filtered_linear = df_filtered[(df_filtered['Current'] < max_current * 0.4)]  # Ensure you filter on df_filtered, not df\n",
    "\n",
    "            # Apply a linear fit to the filtered data\n",
    "            coefficients = np.polyfit(df_filtered_linear['Current'], df_filtered_linear['Voltage'], 1)\n",
    "\n",
    "            # Calculate the fitted voltages using the polynomial fit\n",
    "            background_voltage = np.polyval(coefficients, df_filtered['Current'])\n",
    "\n",
    "            # Subtract the fitted voltages from the original 'Voltage' column to get the 'Fixed_Voltage'\n",
    "            df.loc[(df['Tesla'] == tesla) & (df['Angle'] == angle), 'Fixed_Voltage'] = df_filtered['Voltage'] - background_voltage\n",
    "\n",
    "# Calculate Electric Field for both distances (E) for both distances\n",
    "df['Electric Field'] = df['Fixed_Voltage']/distance\n",
    "\n",
    "# Identify the power law\n",
    "def power_law(I, I_c, n):\n",
    "\n",
    "    I = np.abs(I)\n",
    "\n",
    "    E_c = 100 # Fixed J_c to be assumed value\n",
    "    return E_c * (I / I_c) ** n\n",
    "\n",
    "# Finding n exponent for each curve\n",
    "# Finding n exponent for each curve\n",
    "for tesla in unique_tesla:\n",
    "    for angle in unique_angle:\n",
    "\n",
    "        # Create a filtered dataframe based on unique value of Tesla and Angle\n",
    "        df_filtered = df[(df['Tesla'] == tesla) & (df['Angle'] == angle)]\n",
    "\n",
    "        if not df_filtered.empty:\n",
    "            # Extract current and electric field from the DataFrame\n",
    "            I_data = df_filtered['Current']  # Current (A)\n",
    "            E_data = df_filtered['Fixed_Voltage']  # Fixed Voltage used as the Electric Field\n",
    "\n",
    "            # Check if the data looks reasonable (no NaNs or Inf)\n",
    "            if np.any(np.isnan(I_data)) or np.any(np.isnan(E_data)) or np.any(np.isinf(I_data)) or np.any(np.isinf(E_data)):\n",
    "                print(f\"Warning: NaN or infinite values in the data for Tesla: {tesla}, Angle: {angle}. Skipping.\")\n",
    "                continue\n",
    "\n",
    "            # Initial guess for the fitting parameters [E_c, n]\n",
    "            initial_guess = [40, 20]  # Adjust these guesses if needed\n",
    "\n",
    "            try:\n",
    "                # Perform the curve fitting\n",
    "                popt, pcov = curve_fit(power_law, I_data, E_data, p0=initial_guess)\n",
    "\n",
    "                # Extract the fitted parameters\n",
    "                I_c_fitted, n_fitted = popt\n",
    "\n",
    "                critical_current_data.append([tesla, angle, I_c_fitted])\n",
    "\n",
    "                # Print the fitted E_c\n",
    "                print(f\"Fitted E_c for Tesla = {tesla}, Angle = {angle}: {I_c_fitted:.2f}, Fitted n: {n_fitted:.2f}\")\n",
    "\n",
    "            except RuntimeError:\n",
    "                # Handle the case where the curve fitting does not converge\n",
    "                print(f\"Curve fitting did not converge for Tesla = {tesla}, Angle = {angle}. Skipping.\")\n",
    "\n",
    "df_critical_current = pd.DataFrame(columns=['Tesla', 'Angle', 'Critical Current'], data=critical_current_data)\n"
   ]
  },
  {
   "cell_type": "code",
   "execution_count": 10,
   "metadata": {},
   "outputs": [
    {
     "name": "stdout",
     "output_type": "stream",
     "text": [
      "   Tesla  Angle   Current   Voltage   Time  Fixed_Voltage  Electric Field\n",
      "0   0.15    0.0 -0.016081  1.833614  0.046       0.055995        4.409079\n",
      "1   0.15    0.0 -0.016235  1.850597  0.092       0.072984        5.746763\n",
      "2   0.15    0.0 -0.016093  1.850638  0.465       0.073020        5.749586\n",
      "3   0.15    0.0 -0.016118  1.853878  0.512       0.076261        6.004776\n",
      "4   0.15    0.0 -0.016013  1.853580  0.558       0.075959        5.981012\n",
      "   Tesla  Angle  Critical Current\n",
      "0   0.15    0.0         51.170583\n",
      "1   0.15  120.0         57.567812\n",
      "2   0.15  150.0         54.395248\n",
      "3   0.15   40.0         56.289816\n",
      "4   0.15   60.0         61.715172\n"
     ]
    }
   ],
   "source": [
    "print(df.head())\n",
    "print(df_critical_current.head())\n",
    "\n",
    "df.to_csv('Full_ICY_Durham_Data_processed', index=0)\n",
    "df_critical_current.to_csv('critical_current_data', index=0)"
   ]
  }
 ],
 "metadata": {
  "kernelspec": {
   "display_name": "Python 3",
   "language": "python",
   "name": "python3"
  },
  "language_info": {
   "codemirror_mode": {
    "name": "ipython",
    "version": 3
   },
   "file_extension": ".py",
   "mimetype": "text/x-python",
   "name": "python",
   "nbconvert_exporter": "python",
   "pygments_lexer": "ipython3",
   "version": "3.12.7"
  }
 },
 "nbformat": 4,
 "nbformat_minor": 2
}

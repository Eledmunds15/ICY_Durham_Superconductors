{
 "cells": [
  {
   "cell_type": "code",
   "execution_count": 5,
   "metadata": {},
   "outputs": [],
   "source": [
    "# Data Preparation\n",
    "# Ethan L. Edmunds, Jan 2025\n",
    "\n",
    "# Import Libraries\n",
    "import matplotlib.pyplot as plt\n",
    "import numpy as np\n",
    "import pandas as pd\n",
    "import os\n",
    "from numpy.polynomial import Polynomial\n",
    "from scipy.optimize import curve_fit\n",
    "from matplotlib import cm"
   ]
  },
  {
   "cell_type": "code",
   "execution_count": 6,
   "metadata": {},
   "outputs": [],
   "source": [
    "# Identify path and pull file list\n",
    "path = r\"C:\\Users\\Ethan\\OneDrive\\Documents\\University of Sheffield (PhD)\\Fusion Training\\Transformative Technologies\\ICY_Durham_Superconductors\\fwddurhamdata\"\n",
    "all_files = [os.path.join(path, file) for file in os.listdir(path)  if file.startswith(\"real_deal\")]"
   ]
  },
  {
   "cell_type": "code",
   "execution_count": null,
   "metadata": {},
   "outputs": [],
   "source": [
    "# Applying power law thingy to data\n",
    "def apply_powerlaw()"
   ]
  },
  {
   "cell_type": "code",
   "execution_count": 9,
   "metadata": {},
   "outputs": [],
   "source": [
    "# Create CSV for all files :0\n",
    "def convert_txt_to_csv(file_path):\n",
    "    try:\n",
    "\n",
    "        # Create filename\n",
    "        file_name = file_path.split('\\\\')[-1]\n",
    "\n",
    "        file_name = file_name.split('_')\n",
    "\n",
    "        if file_name[-1].endswith('.txt'):\n",
    "\n",
    "            file_name[-1] = file_name[-1][:-4]\n",
    "\n",
    "        file_name = file_name[0] + \"_\" + file_name[1] + \"_\" + file_name[2] + \"_\" + file_name[3]\n",
    "\n",
    "        # Read the .txt file\n",
    "        with open(file_path, 'r') as file:\n",
    "            lines = file.readlines()\n",
    "        \n",
    "        # Split the lines into two parts: metadata and data\n",
    "        data_lines = []\n",
    "        \n",
    "        for line in lines[12:]:    \n",
    "\n",
    "            data_add = line.split(\"\\t\")\n",
    "\n",
    "            data_lines.append([float(data_add[0]), float(data_add[1]), float(data_add[2].strip())])  \n",
    "\n",
    "    except Exception as e:\n",
    "        print(f\"Error processing the file: {e}\")\n",
    "\n",
    "    dataframe = pd.DataFrame(columns=['Current', 'Voltage', 'Time'], data=data_lines)\n",
    "\n",
    "    dataframe.to_csv('csv_durham_data/' + file_name, index=False)\n",
    "\n",
    "for file in all_files:\n",
    "\n",
    "    convert_txt_to_csv(file_path=file)"
   ]
  },
  {
   "cell_type": "code",
   "execution_count": 8,
   "metadata": {},
   "outputs": [
    {
     "name": "stdout",
     "output_type": "stream",
     "text": [
      "       Tesla  Angle    Current    Voltage    Time\n",
      "0        0.0    0.0  -0.018331   0.998907   0.046\n",
      "1        0.0    0.0  -0.019037   0.998276   0.093\n",
      "2        0.0    0.0  -0.018184   0.991219   0.138\n",
      "3        0.0    0.0  -0.018356   0.985850   0.185\n",
      "4        0.0    0.0  -0.018423   0.979989   0.230\n",
      "...      ...    ...        ...        ...     ...\n",
      "39726    0.7    0.0  30.221645  40.104973  56.569\n",
      "39727    0.7    0.0  30.246658  40.388047  56.615\n",
      "39728    0.7    0.0  30.270679  40.662093  56.661\n",
      "39729    0.7    0.0  30.295938  40.943879  56.707\n",
      "39730    0.7    0.0  30.380894  41.880129  56.753\n",
      "\n",
      "[39731 rows x 5 columns]\n"
     ]
    }
   ],
   "source": [
    "# Create master dataframe for all\n",
    "full_data_lines = []\n",
    "\n",
    "for file_path in all_files:\n",
    "\n",
    "    try:\n",
    "\n",
    "        # Create filename\n",
    "        file_name = file_path.split('\\\\')[-1]\n",
    "\n",
    "        file_name = file_name.split('_')\n",
    "\n",
    "        if file_name[-1].endswith('.txt'):\n",
    "\n",
    "            file_name[-1] = file_name[-1][:-4]\n",
    "\n",
    "        # Read the .txt file\n",
    "        with open(file_path, 'r') as file:\n",
    "            lines = file.readlines()\n",
    "        \n",
    "            for line in lines[12:]:    \n",
    "\n",
    "                data_add = line.split(\"\\t\")\n",
    "\n",
    "                full_data_lines.append([float(file_name[2]), float(file_name[3].strip('deg')), float(data_add[0]), float(data_add[1]), float(data_add[2].strip())])\n",
    "\n",
    "    except Exception as e:\n",
    "        print(f\"Error processing the file: {e}\")\n",
    "\n",
    "data = pd.DataFrame(columns=['Tesla', 'Angle', 'Current', 'Voltage', 'Time'], data=full_data_lines)\n",
    "\n",
    "data.to_csv('Full_ICY_Durham_data', index=False)\n",
    "\n",
    "print(data)"
   ]
  },
  {
   "cell_type": "code",
   "execution_count": null,
   "metadata": {},
   "outputs": [],
   "source": []
  }
 ],
 "metadata": {
  "kernelspec": {
   "display_name": "Python 3",
   "language": "python",
   "name": "python3"
  },
  "language_info": {
   "codemirror_mode": {
    "name": "ipython",
    "version": 3
   },
   "file_extension": ".py",
   "mimetype": "text/x-python",
   "name": "python",
   "nbconvert_exporter": "python",
   "pygments_lexer": "ipython3",
   "version": "3.12.7"
  }
 },
 "nbformat": 4,
 "nbformat_minor": 2
}

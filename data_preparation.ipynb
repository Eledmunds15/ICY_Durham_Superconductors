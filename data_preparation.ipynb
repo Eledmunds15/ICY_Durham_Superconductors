{
 "cells": [
  {
   "cell_type": "code",
   "execution_count": 99,
   "metadata": {},
   "outputs": [],
   "source": [
    "# Data Preparation\n",
    "# Ethan L. Edmunds, Jan 2025\n",
    "\n",
    "# Import Libraries\n",
    "import matplotlib.pyplot as plt\n",
    "import numpy as np\n",
    "import pandas as pd\n",
    "import os\n",
    "from numpy.polynomial import Polynomial\n",
    "from scipy.optimize import curve_fit\n",
    "from matplotlib import cm"
   ]
  },
  {
   "cell_type": "code",
   "execution_count": 100,
   "metadata": {},
   "outputs": [],
   "source": [
    "# Identify path and pull file list\n",
    "path = r\"C:\\Users\\Ethan\\OneDrive\\Documents\\University of Sheffield (PhD)\\Fusion Training\\Transformative Technologies\\ICY_Durham_Superconductors\\All_data_ARCHIVED\""
   ]
  },
  {
   "cell_type": "code",
   "execution_count": 101,
   "metadata": {},
   "outputs": [],
   "source": [
    "# List all files in the folder\n",
    "all_files = os.listdir(path)\n",
    "\n",
    "# Loop through each file\n",
    "for file_name in all_files:\n",
    "    # Check if the file name contains the string 'point'\n",
    "    if 'point' in file_name:\n",
    "        # Generate the new file name by replacing 'point' with '.'\n",
    "        new_file_name = file_name.replace('point', '.')\n",
    "\n",
    "        # Get the full path for the old and new file names\n",
    "        old_file_path = os.path.join(path, file_name)\n",
    "        new_file_path = os.path.join(path, new_file_name)\n",
    "\n",
    "        # Rename the file\n",
    "        os.rename(old_file_path, new_file_path)\n",
    "\n",
    "        print(f'Renamed: {file_name} -> {new_file_name}')"
   ]
  },
  {
   "cell_type": "code",
   "execution_count": 102,
   "metadata": {},
   "outputs": [],
   "source": [
    "all_files = [os.path.join(path, file) for file in os.listdir(path) if file.startswith(\"real_deal\")]"
   ]
  },
  {
   "cell_type": "code",
   "execution_count": 103,
   "metadata": {},
   "outputs": [],
   "source": [
    "# Create a CSV File for a single experiment\n",
    "def convert_txt_to_csv(file_path):\n",
    "    try:\n",
    "\n",
    "        # Create filename\n",
    "        file_name = file_path.split('\\\\')[-1]\n",
    "\n",
    "        file_name = file_name.split('_')\n",
    "\n",
    "        if file_name[-1].endswith('.txt'):\n",
    "\n",
    "            file_name[-1] = file_name[-1][:-4]\n",
    "\n",
    "        file_name = file_name[0] + \"_\" + file_name[1] + \"_\" + file_name[2] + \"_\" + file_name[3]\n",
    "\n",
    "        # Read the .txt file\n",
    "        with open(file_path, 'r') as file:\n",
    "            lines = file.readlines()\n",
    "        \n",
    "        # Split the lines into two parts: metadata and data\n",
    "        data_lines = []\n",
    "        \n",
    "        for line in lines[12:]:    \n",
    "\n",
    "            data_add = line.split(\"\\t\")\n",
    "\n",
    "            data_lines.append([float(data_add[0]), float(data_add[1]), float(data_add[2].strip())])  \n",
    "\n",
    "    except Exception as e:\n",
    "        print(f\"Error processing the file: {e}\")\n",
    "\n",
    "    dataframe = pd.DataFrame(columns=['Current', 'Voltage', 'Time'], data=data_lines)\n",
    "\n",
    "    dataframe.to_csv('raw_data/' + file_name, index=False)"
   ]
  },
  {
   "cell_type": "code",
   "execution_count": 104,
   "metadata": {},
   "outputs": [],
   "source": [
    "# Create a master dataframe for all experiments\n",
    "def create_master_data(files):\n",
    "\n",
    "    # Create master dataframe for all\n",
    "    full_data_lines = []\n",
    "\n",
    "    for file_path in files:\n",
    "\n",
    "        try:\n",
    "\n",
    "            # Create filename\n",
    "            file_name = file_path.split('\\\\')[-1]\n",
    "\n",
    "            file_name = file_name.split('_')\n",
    "\n",
    "            if file_name[-1].endswith('.txt'):\n",
    "\n",
    "                file_name[-1] = file_name[-1][:-4]\n",
    "\n",
    "            # Read the .txt file\n",
    "            with open(file_path, 'r') as file:\n",
    "                lines = file.readlines()\n",
    "            \n",
    "                for line in lines[12:]:    \n",
    "\n",
    "                    data_add = line.split(\"\\t\")\n",
    "\n",
    "                    full_data_lines.append([float(file_name[2]), float(file_name[3].strip('deg')), float(data_add[0]), float(data_add[1]), float(data_add[2].strip())])\n",
    "\n",
    "        except Exception as e:\n",
    "            print(f\"Error processing the file: {e}\")\n",
    "\n",
    "    data = pd.DataFrame(columns=['Tesla', 'Angle', 'Current', 'Voltage', 'Time'], data=full_data_lines)\n",
    "\n",
    "    data.to_csv('Full_ICY_Durham_data', index=False)\n",
    "\n",
    "    print(\"Full Data in CSV created...\")"
   ]
  },
  {
   "cell_type": "code",
   "execution_count": 105,
   "metadata": {},
   "outputs": [
    {
     "name": "stdout",
     "output_type": "stream",
     "text": [
      "Full Data in CSV created...\n"
     ]
    }
   ],
   "source": [
    "for file in all_files:\n",
    "    convert_txt_to_csv(file)\n",
    "\n",
    "create_master_data(all_files)"
   ]
  }
 ],
 "metadata": {
  "kernelspec": {
   "display_name": "Python 3",
   "language": "python",
   "name": "python3"
  },
  "language_info": {
   "codemirror_mode": {
    "name": "ipython",
    "version": 3
   },
   "file_extension": ".py",
   "mimetype": "text/x-python",
   "name": "python",
   "nbconvert_exporter": "python",
   "pygments_lexer": "ipython3",
   "version": "3.12.7"
  }
 },
 "nbformat": 4,
 "nbformat_minor": 2
}
